{
 "cells": [
  {
   "cell_type": "markdown",
   "metadata": {},
   "source": [
    "## Importing Packages"
   ]
  },
  {
   "cell_type": "code",
   "execution_count": 1,
   "metadata": {},
   "outputs": [],
   "source": [
    "import utils\n",
    "import time"
   ]
  },
  {
   "cell_type": "markdown",
   "metadata": {},
   "source": [
    "## Basic Settings"
   ]
  },
  {
   "cell_type": "markdown",
   "metadata": {},
   "source": [
    "Connecting to MT5"
   ]
  },
  {
   "cell_type": "code",
   "execution_count": null,
   "metadata": {},
   "outputs": [],
   "source": [
    "LOGIN = \"\"\n",
    "SENHA = \"\"\n",
    "SERVIDOR = \"\"\n",
    "\n",
    "utils.mt5_connect(login=LOGIN, password=SENHA, server=SERVIDOR)"
   ]
  },
  {
   "cell_type": "markdown",
   "metadata": {},
   "source": [
    "Setting and opening ticker"
   ]
  },
  {
   "cell_type": "code",
   "execution_count": 5,
   "metadata": {},
   "outputs": [],
   "source": [
    "ticker = \"WINZ23\"\n",
    "utils.setup_ticker(ticker)"
   ]
  },
  {
   "cell_type": "markdown",
   "metadata": {},
   "source": [
    "## Feature Calculation"
   ]
  },
  {
   "cell_type": "code",
   "execution_count": null,
   "metadata": {},
   "outputs": [],
   "source": [
    "e_N_acc_time = 15\n",
    "\n",
    "while True:\n",
    "\n",
    "    e_values = []\n",
    "    bid_ask_saved = []\n",
    "\n",
    "    end_time = time.time() + e_N_acc_time\n",
    "    while time.time() <= end_time:\n",
    "\n",
    "        book = utils.extract_bid_ask(ticker)\n",
    "\n",
    "        ask_price = [i for i in book if i.type == 1][-1].price\n",
    "        ask_volume = [i for i in book if i.type == 1][-1].volume\n",
    "        bid_price = [i for i in book if i.type == 2][0].price\n",
    "        bid_volume = [i for i in book if i.type == 2][0].volume\n",
    "\n",
    "        temporary_dict = {\n",
    "            \"ask_price\":      ask_price,\n",
    "            \"ask_volume\":     ask_volume,\n",
    "            \"bid_price\":      bid_price,\n",
    "            \"bid_voluime\":    bid_volume\n",
    "        }\n",
    "        bid_ask_saved.append(temporary_dict)\n",
    "\n",
    "        prev_dict = bid_ask_saved[-2]\n",
    "\n",
    "        prev_ask_price = prev_dict[\"ask_price\"]\n",
    "        prev_ask_volume = prev_dict[\"ask_volume\"]\n",
    "        prev_bid_price = prev_dict[\"bid_price\"]\n",
    "        prev_bid_volume = prev_dict[\"bid_volume\"]\n",
    "\n",
    "        e_n = ((bid_price>=prev_bid_price)*bid_volume - (bid_price<=prev_bid_price)*prev_bid_volume) + ((ask_price>=prev_ask_price)*prev_ask_volume - (ask_price<=prev_ask_price)*ask_volume)\n",
    "        e_values.append(e_n)\n",
    "        time.sleep(0.025)\n",
    "    \n",
    "    time_Bucket_sum = sum(e_values)"
   ]
  }
 ],
 "metadata": {
  "kernelspec": {
   "display_name": "base",
   "language": "python",
   "name": "python3"
  },
  "language_info": {
   "codemirror_mode": {
    "name": "ipython",
    "version": 3
   },
   "file_extension": ".py",
   "mimetype": "text/x-python",
   "name": "python",
   "nbconvert_exporter": "python",
   "pygments_lexer": "ipython3",
   "version": "3.9.7"
  }
 },
 "nbformat": 4,
 "nbformat_minor": 2
}
